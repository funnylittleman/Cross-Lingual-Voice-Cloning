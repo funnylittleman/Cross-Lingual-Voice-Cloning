{
  "cells": [
    {
      "cell_type": "code",
      "execution_count": null,
      "metadata": {
        "colab": {},
        "colab_type": "code",
        "id": "9Y5fGi1KZQul"
      },
      "outputs": [],
      "source": [
        "from google.colab import drive\n",
        "drive.mount('/content/drive')"
      ]
    },
    {
      "cell_type": "code",
      "execution_count": null,
      "metadata": {
        "colab": {},
        "colab_type": "code",
        "id": "vzq7y7s1Q-hU"
      },
      "outputs": [],
      "source": [
        "!pip install matplotlib tensorflow==1.15.4 numpy inflect librosa scipy Unidecode pillow torch==1.9.1 tensorboardX"
      ]
    },
    {
      "cell_type": "code",
      "execution_count": null,
      "metadata": {
        "colab": {},
        "colab_type": "code",
        "id": "7fY3gb4Ed0kK"
      },
      "outputs": [],
      "source": [
        "! git clone https://github.com/funnylittleman/Cross-Lingual-Voice-Cloning\n",
        "%cd Cross-Lingual-Voice-Cloning\n",
        "! git submodule init; git submodule update\n",
        "%cd waveglow\n",
        "!  git pull origin master; git checkout 6188a1d106a1060336040db82f464d6441f39e21\n",
        "! gdown --id 1WsibBTsuRg_SF2Z6L6NFRTT-NjEy1oTx\n",
        "%cd .."
      ]
    },
    {
      "cell_type": "code",
      "execution_count": null,
      "metadata": {
        "colab": {},
        "colab_type": "code",
        "id": "eU5WBlXkRIXV"
      },
      "outputs": [],
      "source": [
        "import matplotlib\n",
        "%matplotlib inline\n",
        "import matplotlib.pylab as plt\n",
        "\n",
        "import sys\n",
        "sys.path.append('waveglow/')\n",
        "import numpy as np\n",
        "import torch\n",
        "\n",
        "from hparams import create_hparams\n",
        "from layers import TacotronSTFT, STFT\n",
        "from audio_processing import griffin_lim\n",
        "from train import load_model\n",
        "from text import text_to_sequence\n",
        "\n",
        "from encoder import inference as encoder\n",
        "from encoder.params_model import model_embedding_size as speaker_embedding_size\n",
        "\n",
        "from model import Tacotron2"
      ]
    },
    {
      "cell_type": "code",
      "execution_count": null,
      "metadata": {
        "colab": {},
        "colab_type": "code",
        "id": "wKesiY2zElgN"
      },
      "outputs": [],
      "source": [
        "# %cd ./waveglow\n",
        "# waveglow_path = base_dir+'<waveglow-weights-path>'                              # To get universal vocoder waveglow weights--> https://drive.google.com/open?id=1okuUstGoBe_qZ4qUEF8CcwEugHP7GM_b\n",
        "# new_model_path = base_dir+'<waveglow-new-weights-path>'\n",
        "# !python convert_model.py '<waveglow-wts-old-path>'  '<waveglow-wts-new-path>'\n",
        "# %cd ..\n",
        "\n",
        "# waveglow = torch.load(new_model_path)['model']\n",
        "# waveglow.cuda().eval() #.half()\n",
        "# for k in waveglow.convinv:\n",
        "#     k.float()\n",
        "#denoiser = Denoiser(waveglow)\n",
        "\n",
        "waveglow_path = 'waveglow/waveglow_256channels_ljs_v2.pt'\n",
        "waveglow = torch.load(waveglow_path)['model']\n",
        "waveglow.cuda().eval().half()\n",
        "for k in waveglow.convinv:\n",
        "    k.float()\n",
        "# denoiser = Denoiser(waveglow)"
      ]
    },
    {
      "cell_type": "code",
      "execution_count": null,
      "metadata": {
        "colab": {},
        "colab_type": "code",
        "id": "co5wkZgwRgnB"
      },
      "outputs": [],
      "source": [
        "hparams = create_hparams()\n",
        "checkpoint_path = '/content/drive/My Drive/Cross-Lingual-Voice-Cloning/checkpoint_1000'\n",
        "model = load_model(hparams)\n",
        "model.load_state_dict(torch.load(checkpoint_path)['state_dict'])\n",
        "_ = model.cuda().eval() #.half()\n",
        "speaker_encoder = encoder.load_model('encoder/pretrained.pt')"
      ]
    },
    {
      "cell_type": "code",
      "execution_count": null,
      "metadata": {
        "colab": {},
        "colab_type": "code",
        "id": "c6C3ZpEQSKP4"
      },
      "outputs": [],
      "source": [
        "text = \"Could there be a talking plot\"\n",
        "audiopath = '000005.wav'\n",
        "lang = 'ru' # ['zh', 'de', 'nl', 'fr', 'ru']\n",
        "\n",
        "\n",
        "lang = ['zh', 'de', 'nl', 'fr', 'ru'].index(lang)\n",
        "sequence = np.array(text_to_sequence(text, ['basic_cleaners']))[None, :]\n",
        "sequence = torch.autograd.Variable(\n",
        "    torch.from_numpy(sequence)).cuda().long()\n",
        "preprocessed_wav = encoder.preprocess_wav(audiopath)\n",
        "speaker_emb = encoder.embed_utterance(preprocessed_wav).cuda()\n",
        "lang = torch.tensor(lang, device='cuda:0')\n",
        "mel_outputs, mel_outputs_postnet, _, alignments = model.inference(sequence, speaker_emb, lang)\n",
        "print(mel_outputs.shape)"
      ]
    },
    {
      "cell_type": "code",
      "execution_count": null,
      "metadata": {
        "colab": {},
        "colab_type": "code",
        "id": "irwl6YvaDsGD"
      },
      "outputs": [],
      "source": [
        "import IPython.display as ipd\n",
        "with torch.no_grad():\n",
        "    audio = waveglow.infer(mel_outputs, sigma=0.1)                                    #PUT MEL IN MEL_OUTPUTS_POSTNET\n",
        "print(audio.shape)\n",
        "ipd.Audio(audio[0].data.cpu().numpy(), rate=22050)"
      ]
    }
  ],
  "metadata": {
    "accelerator": "GPU",
    "colab": {
      "collapsed_sections": [],
      "include_colab_link": true,
      "name": "clvc-infer-gh.ipynb",
      "provenance": []
    },
    "kernelspec": {
      "display_name": "Python 3",
      "name": "python3"
    }
  },
  "nbformat": 4,
  "nbformat_minor": 0
}
